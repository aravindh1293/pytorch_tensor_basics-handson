{
  "nbformat": 4,
  "nbformat_minor": 0,
  "metadata": {
    "colab": {
      "name": "Pytorch-Basics-Part3.ipynb",
      "provenance": [],
      "authorship_tag": "ABX9TyPXGGDmSQXqQjRPTVDIwvWt"
    },
    "kernelspec": {
      "name": "python3",
      "display_name": "Python 3"
    }
  },
  "cells": [
    {
      "cell_type": "markdown",
      "metadata": {
        "id": "xLUZ_oTWop2Z",
        "colab_type": "text"
      },
      "source": [
        "# Neural Networks from scratch using Pytorch"
      ]
    },
    {
      "cell_type": "markdown",
      "metadata": {
        "id": "h16qtz_hqE3K",
        "colab_type": "text"
      },
      "source": [
        "Neural Network working :\n",
        "\n",
        "A typical training procedure for a neural network is as follows:\n",
        "\n",
        "* Define the neural network that has some learnable parameters (or weights)\n",
        "* Iterate over a dataset of inputs\n",
        "* Process input through the network\n",
        "* Compute the loss (how far is the output from being correct)\n",
        "* Propagate gradients back into the network’s parameters\n",
        "* Update the weights of the network, typically using a simple update rule: `weight = weight - learning_rate * gradient`\n",
        "\n",
        "\n",
        "input --> forward_pass --> output --> backprop (update weights to get correct predictions) --> again_output (Training)\n",
        "\n",
        "we will be mainly using `torch.nn` package"
      ]
    },
    {
      "cell_type": "markdown",
      "metadata": {
        "id": "82fqJuv9vyRt",
        "colab_type": "text"
      },
      "source": [
        "# Simple Neural Network"
      ]
    },
    {
      "cell_type": "markdown",
      "metadata": {
        "id": "t3xlSA8uv5-t",
        "colab_type": "text"
      },
      "source": [
        "`torch.nn` package contains layers, a method forward(input) to create NN architechture and iterate to get output"
      ]
    },
    {
      "cell_type": "code",
      "metadata": {
        "id": "ncvskJ4_vxUO",
        "colab_type": "code",
        "colab": {}
      },
      "source": [
        "import torch\n",
        "import torch.nn as nn\n",
        "import torch.nn.functional as F"
      ],
      "execution_count": 0,
      "outputs": []
    },
    {
      "cell_type": "code",
      "metadata": {
        "id": "dfiLoi6GoywI",
        "colab_type": "code",
        "colab": {}
      },
      "source": [
        "class Net(nn.Module):\n",
        "\n",
        "    def __init__(self):\n",
        "        super(Net, self).__init__()\n",
        "        #ip_channel = 1. op_channel = 6, filter_kernel = (3,3), stride = (1,1)\n",
        "        self.conv1 = nn.Conv2d(1, 6, 3)\n",
        "        #ip_channel = 6. op_channel = 16, filter_kernel = (3,3), stride = (1,1)\n",
        "        self.conv2 = nn.Conv2d(6, 16, 3)\n",
        "        #pass all image features to fully connected network\n",
        "        # num of filter * width * height  \n",
        "        self.fc1 = nn.Linear(16*6*6, 120)\n",
        "        self.fc2 = nn.Linear(120, 84)\n",
        "        self.fc3 = nn.Linear(84, 10)\n",
        "\n",
        "    def forward(self, x):\n",
        "        x = F.max_pool2d(F.relu(self.conv1(x)), (2,2))\n",
        "        x = F.max_pool2d(F.relu(self.conv2(x)),2)\n",
        "        x = x.view(-1, self.num_flat_features(x))\n",
        "        x = F.relu(self.fc1(x))\n",
        "        x = F.relu(self.fc2(x))\n",
        "        x = self.fc3(x)\n",
        "        return x\n",
        "\n",
        "    def num_flat_features(self, x):\n",
        "        size = x.size()[1:]\n",
        "        num_features = 1\n",
        "        for s in size:\n",
        "            num_featurs *= s\n",
        "            return num_features"
      ],
      "execution_count": 0,
      "outputs": []
    },
    {
      "cell_type": "code",
      "metadata": {
        "id": "lFLI63Gvogjj",
        "colab_type": "code",
        "colab": {
          "base_uri": "https://localhost:8080/",
          "height": 146
        },
        "outputId": "427a001c-5ce9-468c-9bf0-4dda65704fda"
      },
      "source": [
        "net = Net()\n",
        "print(net)"
      ],
      "execution_count": 13,
      "outputs": [
        {
          "output_type": "stream",
          "text": [
            "Net(\n",
            "  (conv1): Conv2d(1, 6, kernel_size=(3, 3), stride=(1, 1))\n",
            "  (conv2): Conv2d(6, 16, kernel_size=(3, 3), stride=(1, 1))\n",
            "  (fc1): Linear(in_features=576, out_features=120, bias=True)\n",
            "  (fc2): Linear(in_features=120, out_features=84, bias=True)\n",
            "  (fc3): Linear(in_features=84, out_features=10, bias=True)\n",
            ")\n"
          ],
          "name": "stdout"
        }
      ]
    },
    {
      "cell_type": "markdown",
      "metadata": {
        "id": "xhoxJ5s52835",
        "colab_type": "text"
      },
      "source": [
        "after we finish our `forward` function, `backward` function is automatically defined using `autograd`.\n",
        "\n",
        "we can use any of the tensor operations in `forward` function"
      ]
    },
    {
      "cell_type": "code",
      "metadata": {
        "id": "cpB_GKzj1PKl",
        "colab_type": "code",
        "colab": {
          "base_uri": "https://localhost:8080/",
          "height": 54
        },
        "outputId": "9fcc5746-8331-439e-80e3-cda4ecf8b730"
      },
      "source": [
        "params = list(net.parameters())\n",
        "print(len(params))\n",
        "print(params[0].size())"
      ],
      "execution_count": 16,
      "outputs": [
        {
          "output_type": "stream",
          "text": [
            "10\n",
            "torch.Size([6, 1, 3, 3])\n"
          ],
          "name": "stdout"
        }
      ]
    },
    {
      "cell_type": "code",
      "metadata": {
        "id": "l-KCvyeN4yGn",
        "colab_type": "code",
        "colab": {}
      },
      "source": [
        ""
      ],
      "execution_count": 0,
      "outputs": []
    }
  ]
}