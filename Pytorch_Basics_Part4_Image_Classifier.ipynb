{
  "nbformat": 4,
  "nbformat_minor": 0,
  "metadata": {
    "colab": {
      "name": "Pytorch-Basics-Part4_Image_Classifier.ipynb",
      "provenance": [],
      "authorship_tag": "ABX9TyMbwRm82JuEWiwJtQnKimGQ"
    },
    "kernelspec": {
      "name": "python3",
      "display_name": "Python 3"
    }
  },
  "cells": [
    {
      "cell_type": "markdown",
      "metadata": {
        "id": "Ga9kEZwomFcJ",
        "colab_type": "text"
      },
      "source": [
        "# Image Classifier From Scratch :\n",
        "\n",
        "General steps in image classification.\n",
        "\n",
        "    * load dataset and normalize it\n",
        "    * Define CNN architechture\n",
        "    * compute loss\n",
        "    * Train network\n",
        "    * Test neteork with test data "
      ]
    },
    {
      "cell_type": "code",
      "metadata": {
        "id": "pUyavVO-mx3T",
        "colab_type": "code",
        "colab": {}
      },
      "source": [
        "import torch\n",
        "import torchvision\n",
        "import torchvision.transforms as transforms\n",
        "import torch.nn as nn\n",
        "import torch.optim as optim\n",
        "import torch.nn.functional as F"
      ],
      "execution_count": 0,
      "outputs": []
    },
    {
      "cell_type": "markdown",
      "metadata": {
        "id": "M7TOcUMYms_q",
        "colab_type": "text"
      },
      "source": [
        "# Load Dataset :"
      ]
    },
    {
      "cell_type": "code",
      "metadata": {
        "id": "uP1suRWhnwdy",
        "colab_type": "code",
        "colab": {}
      },
      "source": [
        "# rquired transforms\n",
        "transform = transforms.Compose([transforms.ToTensor(),\n",
        "                                transforms.Normalize((0.5,0.5,0.5),\n",
        "                                                     (0.5,0.5,0.5))])"
      ],
      "execution_count": 0,
      "outputs": []
    },
    {
      "cell_type": "code",
      "metadata": {
        "id": "M0CRCfTel-R8",
        "colab_type": "code",
        "colab": {
          "base_uri": "https://localhost:8080/",
          "height": 54
        },
        "outputId": "95f2285e-2f8a-46b4-d65a-a1c580401559"
      },
      "source": [
        "# create train and test dataset\n",
        "trainset = torchvision.datasets.CIFAR10(root=\"./data\", train=True, transform = transform, download=True)\n",
        "testset = torchvision.datasets.CIFAR10(root=\"./data\", train=False, transform=transform, download=True)"
      ],
      "execution_count": 4,
      "outputs": [
        {
          "output_type": "stream",
          "text": [
            "Files already downloaded and verified\n",
            "Files already downloaded and verified\n"
          ],
          "name": "stdout"
        }
      ]
    },
    {
      "cell_type": "code",
      "metadata": {
        "id": "8izQgtIQoPzF",
        "colab_type": "code",
        "colab": {}
      },
      "source": [
        "# create train and test dataloader\n",
        "trainloader = torch.utils.data.DataLoader(dataset=trainset, batch_size=4, shuffle=True, num_workers=3)\n",
        "testloader = torch.utils.data.DataLoader(dataset=testset, batch_size=4, shuffle=True, num_workers=3)"
      ],
      "execution_count": 0,
      "outputs": []
    },
    {
      "cell_type": "code",
      "metadata": {
        "id": "03vJyMZPpy13",
        "colab_type": "code",
        "colab": {}
      },
      "source": [
        "# initialise classes in dataset\n",
        "\n",
        "classes = ('plane', 'car', 'bird', 'cat',\n",
        "           'deer', 'dog', 'frog', 'horse', 'ship', 'truck')"
      ],
      "execution_count": 0,
      "outputs": []
    },
    {
      "cell_type": "code",
      "metadata": {
        "id": "m633Ay4uqSAB",
        "colab_type": "code",
        "colab": {
          "base_uri": "https://localhost:8080/",
          "height": 156
        },
        "outputId": "461d3460-3c95-4c36-b123-fc4b0ea01c7c"
      },
      "source": [
        "# visulalise some of training image\n",
        "import matplotlib.pyplot as plt\n",
        "import numpy as np\n",
        "\n",
        "def imshow(img):\n",
        "    img = img/2 + 0.5\n",
        "    print(img.size())\n",
        "    plt.imshow(np.transpose(img, (1,2,0)))\n",
        "\n",
        "dataiter = iter(trainloader)\n",
        "images, labels = dataiter.next()\n",
        "\n",
        "imshow(torchvision.utils.make_grid(images))"
      ],
      "execution_count": 11,
      "outputs": [
        {
          "output_type": "stream",
          "text": [
            "torch.Size([3, 36, 138])\n"
          ],
          "name": "stdout"
        },
        {
          "output_type": "display_data",
          "data": {
            "image/png": "[encoded data removed]",
            "text/plain": [
              "<Figure size 432x288 with 1 Axes>"
            ]
          },
          "metadata": {
            "tags": []
          }
        }
      ]
    },
    {
      "cell_type": "code",
      "metadata": {
        "id": "vJRCKBWPrhyF",
        "colab_type": "code",
        "colab": {
          "base_uri": "https://localhost:8080/",
          "height": 35
        },
        "outputId": "8469e143-7f1b-42a0-dca9-2ad72f86b3d3"
      },
      "source": [
        "# lets see corresponding classes to above shown images by using their labels\n",
        "print(\" \".join(classes[labels[j]] for j in range(len(labels))))"
      ],
      "execution_count": 14,
      "outputs": [
        {
          "output_type": "stream",
          "text": [
            "ship horse deer car\n"
          ],
          "name": "stdout"
        }
      ]
    },
    {
      "cell_type": "markdown",
      "metadata": {
        "id": "4HGNPKEGsiRa",
        "colab_type": "text"
      },
      "source": [
        "# CNN"
      ]
    },
    {
      "cell_type": "code",
      "metadata": {
        "id": "w5CRk2rpsPY1",
        "colab_type": "code",
        "colab": {
          "base_uri": "https://localhost:8080/",
          "height": 185
        },
        "outputId": "d6b025c2-c8d6-42a0-c82e-f253074047ff"
      },
      "source": [
        "class Net(nn.Module):\n",
        "    def __init__(self):\n",
        "        super(Net, self).__init__()\n",
        "        self.conv1 = nn.Conv2d(in_channels=3, out_channels=6, kernel_size=5)\n",
        "        self.conv2 = nn.Conv2d(in_channels=6, out_channels=16, kernel_size=5)\n",
        "        self.pool = nn.MaxPool2d(kernel_size=2)\n",
        "        # self.flatten = nn.Flatten()\n",
        "        self.fc1 = nn.Linear(in_features=16*5*5, out_features=120)\n",
        "        self.fc2 = nn.Linear(in_features=120, out_features=84)\n",
        "        self.fc3 = nn.Linear(84, 10)\n",
        "\n",
        "    def forward(self, x):\n",
        "        # print(x)\n",
        "        x = self.pool(F.relu(self.conv1(x)))\n",
        "        x = self.pool(F.relu(self.conv2(x)))\n",
        "        # x = x.view(-1, 16*5*5)\n",
        "        x = torch.flatten(input= x, start_dim=1) # if batch size in greater than one we should keep start dim to 1(check docs[\"https://pytorch.org/docs/stable/torch.html#torch.flatten\"])\n",
        "        # print(len(x),x)\n",
        "        x = F.relu(self.fc1(x))\n",
        "        x = F.relu(self.fc2(x))\n",
        "        x = self.fc3(x)\n",
        "        return x\n",
        "\n",
        "net = Net()\n",
        "print(net)"
      ],
      "execution_count": 107,
      "outputs": [
        {
          "output_type": "stream",
          "text": [
            "Net(\n",
            "  (conv1): Conv2d(3, 6, kernel_size=(5, 5), stride=(1, 1))\n",
            "  (conv2): Conv2d(6, 16, kernel_size=(5, 5), stride=(1, 1))\n",
            "  (pool): MaxPool2d(kernel_size=2, stride=2, padding=0, dilation=1, ceil_mode=False)\n",
            "  (fc1): Linear(in_features=400, out_features=120, bias=True)\n",
            "  (fc2): Linear(in_features=120, out_features=84, bias=True)\n",
            "  (fc3): Linear(in_features=84, out_features=10, bias=True)\n",
            ")\n"
          ],
          "name": "stdout"
        }
      ]
    },
    {
      "cell_type": "code",
      "metadata": {
        "id": "EccnbcGFDvWV",
        "colab_type": "code",
        "colab": {
          "base_uri": "https://localhost:8080/",
          "height": 74
        },
        "outputId": "572e742e-d09d-4da3-cf3f-ee119cd104dd"
      },
      "source": [
        "net(torch.randn(1,3,32,32))"
      ],
      "execution_count": 108,
      "outputs": [
        {
          "output_type": "execute_result",
          "data": {
            "text/plain": [
              "tensor([[ 0.0981, -0.0477, -0.1232, -0.0989, -0.1398, -0.0173, -0.1312,  0.0103,\n",
              "          0.0178, -0.0162]], grad_fn=<AddmmBackward>)"
            ]
          },
          "metadata": {
            "tags": []
          },
          "execution_count": 108
        }
      ]
    },
    {
      "cell_type": "markdown",
      "metadata": {
        "id": "TMRX0FncvwpC",
        "colab_type": "text"
      },
      "source": [
        "# Loss Fn"
      ]
    },
    {
      "cell_type": "code",
      "metadata": {
        "id": "l5QFqiXMuNkD",
        "colab_type": "code",
        "colab": {}
      },
      "source": [
        "criterion = nn.CrossEntropyLoss()\n",
        "optimizer = optim.SGD(net.parameters(), lr=0.001)"
      ],
      "execution_count": 0,
      "outputs": []
    },
    {
      "cell_type": "markdown",
      "metadata": {
        "id": "HqV6Nw7zw4MY",
        "colab_type": "text"
      },
      "source": [
        "# Training"
      ]
    },
    {
      "cell_type": "code",
      "metadata": {
        "id": "RXfUHLPTw3Ia",
        "colab_type": "code",
        "colab": {
          "base_uri": "https://localhost:8080/",
          "height": 478
        },
        "outputId": "a152fba4-6806-48ad-958d-ded90a5a83a7"
      },
      "source": [
        "for epoch in range(2):\n",
        "    running_loss = 0.0\n",
        "    for i, data in enumerate(trainloader,0):\n",
        "        images, labels = data\n",
        "        # print(images)\n",
        "\n",
        "        optimizer.zero_grad()\n",
        "\n",
        "        outputs = net(images)\n",
        "\n",
        "        loss = criterion(outputs, labels)\n",
        "\n",
        "        loss.backward()\n",
        "\n",
        "        optimizer.step()\n",
        "\n",
        "        running_loss += loss.item()\n",
        "\n",
        "        if i % 2000 == 1999:\n",
        "            print(\"(epoch - i - loss)\")\n",
        "            print(f\"{epoch+1, i+1, running_loss/2000}\")\n",
        "            running_loss = 0.0\n",
        "\n",
        "print('finished training')"
      ],
      "execution_count": 110,
      "outputs": [
        {
          "output_type": "stream",
          "text": [
            "(epoch - i - loss)\n",
            "(1, 2000, 2.3031834638118744)\n",
            "(epoch - i - loss)\n",
            "(1, 4000, 2.3009612324237825)\n",
            "(epoch - i - loss)\n",
            "(1, 6000, 2.2970324778556823)\n",
            "(epoch - i - loss)\n",
            "(1, 8000, 2.2852041249275206)\n",
            "(epoch - i - loss)\n",
            "(1, 10000, 2.252576214134693)\n",
            "(epoch - i - loss)\n",
            "(1, 12000, 2.157323700964451)\n",
            "(epoch - i - loss)\n",
            "(2, 2000, 2.0574946203827857)\n",
            "(epoch - i - loss)\n",
            "(2, 4000, 1.9938174290657042)\n",
            "(epoch - i - loss)\n",
            "(2, 6000, 1.9435593725144864)\n",
            "(epoch - i - loss)\n",
            "(2, 8000, 1.8979395029246806)\n",
            "(epoch - i - loss)\n",
            "(2, 10000, 1.8396917059123516)\n",
            "(epoch - i - loss)\n",
            "(2, 12000, 1.7835840275287629)\n",
            "finished training\n"
          ],
          "name": "stdout"
        }
      ]
    },
    {
      "cell_type": "markdown",
      "metadata": {
        "id": "QYRQYBC3FAqy",
        "colab_type": "text"
      },
      "source": [
        "# Save trained Model"
      ]
    },
    {
      "cell_type": "code",
      "metadata": {
        "id": "OwubKSHa4sx5",
        "colab_type": "code",
        "colab": {}
      },
      "source": [
        "torch.save(net.state_dict(), \"./cifar10_net.pth\")"
      ],
      "execution_count": 0,
      "outputs": []
    },
    {
      "cell_type": "markdown",
      "metadata": {
        "id": "NLkpJps1FQ-P",
        "colab_type": "text"
      },
      "source": [
        "# Inference"
      ]
    },
    {
      "cell_type": "code",
      "metadata": {
        "id": "wUiMqQ8UFOkj",
        "colab_type": "code",
        "colab": {
          "base_uri": "https://localhost:8080/",
          "height": 175
        },
        "outputId": "ba7d2960-16d2-4562-cd26-46f39cb197ca"
      },
      "source": [
        "dataiter = iter(testloader)\n",
        "images, labels = dataiter.next()\n",
        "\n",
        "imshow(torchvision.utils.make_grid(images))\n",
        "\n",
        "print(\" \".join(classes[labels[j]] for j in range(len(images))))"
      ],
      "execution_count": 119,
      "outputs": [
        {
          "output_type": "stream",
          "text": [
            "torch.Size([3, 36, 138])\n",
            "cat horse dog dog\n"
          ],
          "name": "stdout"
        },
        {
          "output_type": "display_data",
          "data": {
            "image/png": "[encoded data removed]",
            "text/plain": [
              "<Figure size 432x288 with 1 Axes>"
            ]
          },
          "metadata": {
            "tags": []
          }
        }
      ]
    },
    {
      "cell_type": "code",
      "metadata": {
        "id": "MXgrnxkAHPSb",
        "colab_type": "code",
        "colab": {
          "base_uri": "https://localhost:8080/",
          "height": 35
        },
        "outputId": "8b0511d0-b9e7-48c8-ffa9-d8421414b2a3"
      },
      "source": [
        "net = Net()\n",
        "net.load_state_dict(torch.load(\"./cifar10_net.pth\"))"
      ],
      "execution_count": 120,
      "outputs": [
        {
          "output_type": "execute_result",
          "data": {
            "text/plain": [
              "<All keys matched successfully>"
            ]
          },
          "metadata": {
            "tags": []
          },
          "execution_count": 120
        }
      ]
    },
    {
      "cell_type": "code",
      "metadata": {
        "id": "m1laNSw-HdQ-",
        "colab_type": "code",
        "colab": {}
      },
      "source": [
        "outputs = net(images)"
      ],
      "execution_count": 0,
      "outputs": []
    },
    {
      "cell_type": "code",
      "metadata": {
        "id": "u90ddyZiIgrl",
        "colab_type": "code",
        "colab": {
          "base_uri": "https://localhost:8080/",
          "height": 185
        },
        "outputId": "384c80cb-df52-4190-e3e6-511077671004"
      },
      "source": [
        "outputs"
      ],
      "execution_count": 124,
      "outputs": [
        {
          "output_type": "execute_result",
          "data": {
            "text/plain": [
              "tensor([[-2.5184, -2.1688,  1.1195,  1.2422,  1.6528,  1.5685,  2.1575,  1.2647,\n",
              "         -2.9330, -2.0155],\n",
              "        [-1.7064, -1.8281,  1.2300,  0.5704,  1.6336,  0.7527,  1.6425,  0.9609,\n",
              "         -2.4279, -1.2825],\n",
              "        [-0.7301, -2.0021,  0.8723,  0.6884,  0.6707,  1.7275, -0.8411,  1.5556,\n",
              "         -0.7021, -1.8302],\n",
              "        [-0.9134, -1.6191,  0.9877,  1.4548,  0.4268,  1.8262,  0.4303, -0.1885,\n",
              "         -1.3670, -2.1004]], grad_fn=<AddmmBackward>)"
            ]
          },
          "metadata": {
            "tags": []
          },
          "execution_count": 124
        }
      ]
    },
    {
      "cell_type": "code",
      "metadata": {
        "id": "twboUyFHHgI7",
        "colab_type": "code",
        "colab": {
          "base_uri": "https://localhost:8080/",
          "height": 35
        },
        "outputId": "9863c72e-d7a5-4fb4-d97e-28fa2b680d1d"
      },
      "source": [
        "_, predicted = torch.max(outputs, 1)\n",
        "predicted"
      ],
      "execution_count": 122,
      "outputs": [
        {
          "output_type": "execute_result",
          "data": {
            "text/plain": [
              "tensor([6, 6, 5, 5])"
            ]
          },
          "metadata": {
            "tags": []
          },
          "execution_count": 122
        }
      ]
    },
    {
      "cell_type": "code",
      "metadata": {
        "id": "FVDe-BSiHq99",
        "colab_type": "code",
        "colab": {
          "base_uri": "https://localhost:8080/",
          "height": 35
        },
        "outputId": "1e059e3f-bd99-44ff-b72c-7dc032cf3f41"
      },
      "source": [
        "\" \".join(classes[labels[j]] for j in range(len(images)))"
      ],
      "execution_count": 123,
      "outputs": [
        {
          "output_type": "execute_result",
          "data": {
            "text/plain": [
              "'cat horse dog dog'"
            ]
          },
          "metadata": {
            "tags": []
          },
          "execution_count": 123
        }
      ]
    },
    {
      "cell_type": "markdown",
      "metadata": {
        "id": "Y8rkvHMCIt2A",
        "colab_type": "text"
      },
      "source": [
        "# Inference on Whole Dataset : "
      ]
    },
    {
      "cell_type": "code",
      "metadata": {
        "id": "xQ_wisK1IsgU",
        "colab_type": "code",
        "colab": {
          "base_uri": "https://localhost:8080/",
          "height": 35
        },
        "outputId": "973c00db-4888-4035-8da6-3ee5137d05b5"
      },
      "source": [
        "correct = 0\n",
        "total = 0\n",
        "\n",
        "with torch.no_grad():\n",
        "    for data in testloader:\n",
        "        images, labels = data\n",
        "        outputs = net(images)\n",
        "        _, predicted = torch.max(outputs.data, 1)\n",
        "        total += labels.size(0)\n",
        "        correct += (predicted == labels).sum().item()\n",
        "\n",
        "print(f\"Accuracy : {100 * correct/total}\")"
      ],
      "execution_count": 125,
      "outputs": [
        {
          "output_type": "stream",
          "text": [
            "Accuracy : 36.53\n"
          ],
          "name": "stdout"
        }
      ]
    },
    {
      "cell_type": "code",
      "metadata": {
        "id": "EQvdA98YIZbu",
        "colab_type": "code",
        "colab": {}
      },
      "source": [
        ""
      ],
      "execution_count": 0,
      "outputs": []
    }
  ]
}