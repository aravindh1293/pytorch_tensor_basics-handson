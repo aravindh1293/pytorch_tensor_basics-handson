{
  "nbformat": 4,
  "nbformat_minor": 0,
  "metadata": {
    "colab": {
      "name": "Pytorch-Basics-Part1.ipynb",
      "provenance": [],
      "collapsed_sections": [],
      "authorship_tag": "ABX9TyPGzvVWb27Th+aNtPSNFVdL"
    },
    "kernelspec": {
      "name": "python3",
      "display_name": "Python 3"
    }
  },
  "cells": [
    {
      "cell_type": "markdown",
      "metadata": {
        "id": "-F4NvtAg8E6K",
        "colab_type": "text"
      },
      "source": [
        "# Pytorch\n",
        "\n",
        "* to run deep learning in GPU.\n",
        "* it can do everything numpy does"
      ]
    },
    {
      "cell_type": "code",
      "metadata": {
        "id": "aGBvzJCq7Ycf",
        "colab_type": "code",
        "colab": {}
      },
      "source": [
        "# torch library\n",
        "import torch"
      ],
      "execution_count": 0,
      "outputs": []
    },
    {
      "cell_type": "code",
      "metadata": {
        "id": "eznViVRy9BeA",
        "colab_type": "code",
        "outputId": "578cc782-4a98-47f0-8d60-042016352761",
        "colab": {
          "base_uri": "https://localhost:8080/",
          "height": 72
        }
      },
      "source": [
        "# it fills matrices with previous valuesstored in ram\n",
        "torch.empty(3,3)"
      ],
      "execution_count": 0,
      "outputs": [
        {
          "output_type": "execute_result",
          "data": {
            "text/plain": [
              "tensor([[1.6185e-35, 0.0000e+00, 0.0000e+00],\n",
              "        [0.0000e+00, 0.0000e+00, 0.0000e+00],\n",
              "        [0.0000e+00, 0.0000e+00, 2.8026e-45]])"
            ]
          },
          "metadata": {
            "tags": []
          },
          "execution_count": 4
        }
      ]
    },
    {
      "cell_type": "code",
      "metadata": {
        "id": "bjijcLdk9JPx",
        "colab_type": "code",
        "outputId": "614becdd-ce65-4a39-a2b1-8dcb60e8b7ca",
        "colab": {
          "base_uri": "https://localhost:8080/",
          "height": 72
        }
      },
      "source": [
        "# random numbers are generated\n",
        "torch.rand(3,3)"
      ],
      "execution_count": 0,
      "outputs": [
        {
          "output_type": "execute_result",
          "data": {
            "text/plain": [
              "tensor([[0.4436, 0.2200, 0.3861],\n",
              "        [0.2348, 0.1917, 0.1985],\n",
              "        [0.7635, 0.8923, 0.1314]])"
            ]
          },
          "metadata": {
            "tags": []
          },
          "execution_count": 5
        }
      ]
    },
    {
      "cell_type": "code",
      "metadata": {
        "id": "qZNEqzxg9ji7",
        "colab_type": "code",
        "outputId": "65e89a5d-d7d7-4fa2-cf50-548c95e4265f",
        "colab": {
          "base_uri": "https://localhost:8080/",
          "height": 72
        }
      },
      "source": [
        "#zero filled matrix\n",
        "torch.zeros(3,3,dtype=torch.long)"
      ],
      "execution_count": 0,
      "outputs": [
        {
          "output_type": "execute_result",
          "data": {
            "text/plain": [
              "tensor([[0, 0, 0],\n",
              "        [0, 0, 0],\n",
              "        [0, 0, 0]])"
            ]
          },
          "metadata": {
            "tags": []
          },
          "execution_count": 6
        }
      ]
    },
    {
      "cell_type": "code",
      "metadata": {
        "id": "sXylmIRT9p7D",
        "colab_type": "code",
        "outputId": "d9d49ff5-b0bb-4ffa-8682-b72f94186e38",
        "colab": {
          "base_uri": "https://localhost:8080/",
          "height": 35
        }
      },
      "source": [
        "# create a tensor array\n",
        "torch.tensor([1,2,3,4,5])"
      ],
      "execution_count": 0,
      "outputs": [
        {
          "output_type": "execute_result",
          "data": {
            "text/plain": [
              "tensor([1, 2, 3, 4, 5])"
            ]
          },
          "metadata": {
            "tags": []
          },
          "execution_count": 7
        }
      ]
    },
    {
      "cell_type": "code",
      "metadata": {
        "id": "mI6vMaMH-Dpz",
        "colab_type": "code",
        "outputId": "af2d83b2-1c82-4861-b341-edd3af005304",
        "colab": {
          "base_uri": "https://localhost:8080/",
          "height": 109
        }
      },
      "source": [
        "x= torch.zeros(5,3);x"
      ],
      "execution_count": 0,
      "outputs": [
        {
          "output_type": "execute_result",
          "data": {
            "text/plain": [
              "tensor([[0., 0., 0.],\n",
              "        [0., 0., 0.],\n",
              "        [0., 0., 0.],\n",
              "        [0., 0., 0.],\n",
              "        [0., 0., 0.]])"
            ]
          },
          "metadata": {
            "tags": []
          },
          "execution_count": 8
        }
      ]
    },
    {
      "cell_type": "code",
      "metadata": {
        "id": "l0XmW88AL197",
        "colab_type": "code",
        "outputId": "5473fd2f-90f5-4f27-cced-e9fb6b95160c",
        "colab": {
          "base_uri": "https://localhost:8080/",
          "height": 109
        }
      },
      "source": [
        "# random normalised number like x\n",
        "torch.randn_like(x)"
      ],
      "execution_count": 0,
      "outputs": [
        {
          "output_type": "execute_result",
          "data": {
            "text/plain": [
              "tensor([[ 0.4548, -0.9514, -0.7825],\n",
              "        [ 0.0859,  0.3853,  1.5086],\n",
              "        [ 0.1250, -0.3386, -0.4915],\n",
              "        [ 0.8515, -0.1364,  0.8045],\n",
              "        [-0.4427,  0.2653, -0.0725]])"
            ]
          },
          "metadata": {
            "tags": []
          },
          "execution_count": 17
        }
      ]
    },
    {
      "cell_type": "code",
      "metadata": {
        "id": "1DnzCojlL8ho",
        "colab_type": "code",
        "outputId": "9741c59b-2a98-43b6-a11d-53d18998f410",
        "colab": {
          "base_uri": "https://localhost:8080/",
          "height": 35
        }
      },
      "source": [
        "# to know dimension of a matrix\n",
        "x.size()"
      ],
      "execution_count": 0,
      "outputs": [
        {
          "output_type": "execute_result",
          "data": {
            "text/plain": [
              "torch.Size([5, 3])"
            ]
          },
          "metadata": {
            "tags": []
          },
          "execution_count": 21
        }
      ]
    },
    {
      "cell_type": "markdown",
      "metadata": {
        "id": "mSaYdGUFAqJI",
        "colab_type": "text"
      },
      "source": [
        "## Addition In Multiple ways with Pytorch"
      ]
    },
    {
      "cell_type": "code",
      "metadata": {
        "id": "uYHvhKFsMXvH",
        "colab_type": "code",
        "outputId": "ebb68032-9150-4768-b151-6efabaf54bef",
        "colab": {
          "base_uri": "https://localhost:8080/",
          "height": 54
        }
      },
      "source": [
        "x = torch.rand(2,3)\n",
        "y = torch.rand(2,3)\n",
        "x+y"
      ],
      "execution_count": 0,
      "outputs": [
        {
          "output_type": "execute_result",
          "data": {
            "text/plain": [
              "tensor([[0.8010, 1.1935, 0.5948],\n",
              "        [1.0067, 0.9957, 1.1292]])"
            ]
          },
          "metadata": {
            "tags": []
          },
          "execution_count": 23
        }
      ]
    },
    {
      "cell_type": "code",
      "metadata": {
        "id": "xfl_mRdAM0qU",
        "colab_type": "code",
        "outputId": "d86a7969-fe86-4fac-ecdf-e357b6575902",
        "colab": {
          "base_uri": "https://localhost:8080/",
          "height": 54
        }
      },
      "source": [
        "#addition can also be done in multiple ways\n",
        "x.add_(y)"
      ],
      "execution_count": 0,
      "outputs": [
        {
          "output_type": "execute_result",
          "data": {
            "text/plain": [
              "tensor([[0.8010, 1.1935, 0.5948],\n",
              "        [1.0067, 0.9957, 1.1292]])"
            ]
          },
          "metadata": {
            "tags": []
          },
          "execution_count": 24
        }
      ]
    },
    {
      "cell_type": "code",
      "metadata": {
        "id": "40cVws3hNhs1",
        "colab_type": "code",
        "outputId": "8ae57b86-f754-45b9-a6ff-44fb875329fc",
        "colab": {
          "base_uri": "https://localhost:8080/",
          "height": 54
        }
      },
      "source": [
        "torch.add(x,y)"
      ],
      "execution_count": 0,
      "outputs": [
        {
          "output_type": "execute_result",
          "data": {
            "text/plain": [
              "tensor([[0.8278, 1.4789, 0.8825],\n",
              "        [1.4387, 1.1272, 1.4161]])"
            ]
          },
          "metadata": {
            "tags": []
          },
          "execution_count": 25
        }
      ]
    },
    {
      "cell_type": "code",
      "metadata": {
        "id": "yj_MdGOoNzhE",
        "colab_type": "code",
        "outputId": "e3b0ba35-0939-4806-bc45-3363f0809556",
        "colab": {
          "base_uri": "https://localhost:8080/",
          "height": 54
        }
      },
      "source": [
        "torch.add(x,y, out=torch.empty(2,3))"
      ],
      "execution_count": 0,
      "outputs": [
        {
          "output_type": "execute_result",
          "data": {
            "text/plain": [
              "tensor([[0.8278, 1.4789, 0.8825],\n",
              "        [1.4387, 1.1272, 1.4161]])"
            ]
          },
          "metadata": {
            "tags": []
          },
          "execution_count": 28
        }
      ]
    },
    {
      "cell_type": "code",
      "metadata": {
        "id": "o_9_OR91N-JR",
        "colab_type": "code",
        "outputId": "b5b80b63-d82e-49e6-8c3d-f7170e67e30f",
        "colab": {
          "base_uri": "https://localhost:8080/",
          "height": 54
        }
      },
      "source": [
        "# an '_' operator in any function used to replace any value previously assigned to a variable\n",
        "x.add_(y)"
      ],
      "execution_count": 0,
      "outputs": [
        {
          "output_type": "execute_result",
          "data": {
            "text/plain": [
              "tensor([[0.8278, 1.4789, 0.8825],\n",
              "        [1.4387, 1.1272, 1.4161]])"
            ]
          },
          "metadata": {
            "tags": []
          },
          "execution_count": 30
        }
      ]
    },
    {
      "cell_type": "code",
      "metadata": {
        "id": "dRLmfsvHP-ce",
        "colab_type": "code",
        "outputId": "b953d957-9188-4684-e8c7-17ef0c343642",
        "colab": {
          "base_uri": "https://localhost:8080/",
          "height": 54
        }
      },
      "source": [
        "x"
      ],
      "execution_count": 0,
      "outputs": [
        {
          "output_type": "execute_result",
          "data": {
            "text/plain": [
              "tensor([[0.8278, 1.4789, 0.8825],\n",
              "        [1.4387, 1.1272, 1.4161]])"
            ]
          },
          "metadata": {
            "tags": []
          },
          "execution_count": 31
        }
      ]
    },
    {
      "cell_type": "code",
      "metadata": {
        "id": "BnkLFP6JQB4g",
        "colab_type": "code",
        "outputId": "cbc9e842-6d69-4807-9cd8-5b2d365b6ae2",
        "colab": {
          "base_uri": "https://localhost:8080/",
          "height": 35
        }
      },
      "source": [
        "# pytorch also support indexing and slicing like numpy\n",
        "x[:,1]"
      ],
      "execution_count": 0,
      "outputs": [
        {
          "output_type": "execute_result",
          "data": {
            "text/plain": [
              "tensor([1.4789, 1.1272])"
            ]
          },
          "metadata": {
            "tags": []
          },
          "execution_count": 34
        }
      ]
    },
    {
      "cell_type": "code",
      "metadata": {
        "id": "didZP7NoQHsZ",
        "colab_type": "code",
        "colab": {}
      },
      "source": [
        "# `view` is another command used to reshape a matrix or tensor \n",
        "x = torch.randn(4,5)\n",
        "y = x.view(20)\n",
        "z = x.view(-1,10)"
      ],
      "execution_count": 0,
      "outputs": []
    },
    {
      "cell_type": "code",
      "metadata": {
        "id": "T-2JW1MDRd18",
        "colab_type": "code",
        "outputId": "8c272962-1d4d-4b79-f940-5476fb2e5d74",
        "colab": {
          "base_uri": "https://localhost:8080/",
          "height": 72
        }
      },
      "source": [
        "print(x.size())\n",
        "print(y.size())\n",
        "print(z.size())"
      ],
      "execution_count": 0,
      "outputs": [
        {
          "output_type": "stream",
          "text": [
            "torch.Size([4, 5])\n",
            "torch.Size([20])\n",
            "torch.Size([2, 10])\n"
          ],
          "name": "stdout"
        }
      ]
    },
    {
      "cell_type": "code",
      "metadata": {
        "id": "HvTUXa_eSdco",
        "colab_type": "code",
        "outputId": "e578bd6a-40db-406a-c32a-42a99adcc47f",
        "colab": {
          "base_uri": "https://localhost:8080/",
          "height": 54
        }
      },
      "source": [
        "# if a matrix is scalar, then its value can be accessed by `.items()`\n",
        "x = torch.randn(1)\n",
        "print(x)\n",
        "x.item()"
      ],
      "execution_count": 0,
      "outputs": [
        {
          "output_type": "stream",
          "text": [
            "tensor([0.8015])\n"
          ],
          "name": "stdout"
        },
        {
          "output_type": "execute_result",
          "data": {
            "text/plain": [
              "0.80146324634552"
            ]
          },
          "metadata": {
            "tags": []
          },
          "execution_count": 50
        }
      ]
    },
    {
      "cell_type": "markdown",
      "metadata": {
        "id": "tSOdKYG_CN_R",
        "colab_type": "text"
      },
      "source": [
        "## Torch-2-Numpy"
      ]
    },
    {
      "cell_type": "code",
      "metadata": {
        "id": "ksxLZQL3V5Ac",
        "colab_type": "code",
        "outputId": "513f0f50-db63-4c09-e6da-f1fbb34acfcf",
        "colab": {
          "base_uri": "https://localhost:8080/",
          "height": 220
        }
      },
      "source": [
        "# torch tensor to numpy\n",
        "x = torch.rand(5,5)\n",
        "print(x)\n",
        "x.numpy()"
      ],
      "execution_count": 0,
      "outputs": [
        {
          "output_type": "stream",
          "text": [
            "tensor([[0.1880, 0.5775, 0.8729, 0.6200, 0.9945],\n",
            "        [0.1329, 0.3815, 0.8998, 0.8293, 0.5158],\n",
            "        [0.1581, 0.2970, 0.0555, 0.4255, 0.3195],\n",
            "        [0.3756, 0.3437, 0.1735, 0.8733, 0.5842],\n",
            "        [0.3461, 0.9226, 0.0608, 0.6781, 0.6106]])\n"
          ],
          "name": "stdout"
        },
        {
          "output_type": "execute_result",
          "data": {
            "text/plain": [
              "array([[0.18795717, 0.5774901 , 0.87294084, 0.6200417 , 0.99447906],\n",
              "       [0.1329019 , 0.38150024, 0.8997833 , 0.8292822 , 0.515756  ],\n",
              "       [0.15805984, 0.29701847, 0.05547643, 0.42554158, 0.3194772 ],\n",
              "       [0.37559968, 0.34365302, 0.17349434, 0.873292  , 0.584156  ],\n",
              "       [0.34606212, 0.9225988 , 0.06084901, 0.67813027, 0.61057097]],\n",
              "      dtype=float32)"
            ]
          },
          "metadata": {
            "tags": []
          },
          "execution_count": 61
        }
      ]
    },
    {
      "cell_type": "markdown",
      "metadata": {
        "id": "YIB2ASVNCUJk",
        "colab_type": "text"
      },
      "source": [
        "## Numpy-2-Torch"
      ]
    },
    {
      "cell_type": "code",
      "metadata": {
        "id": "mm7mIvf8Wgc8",
        "colab_type": "code",
        "outputId": "8d8cc244-eb19-41a2-a6ce-26bef46dc6c4",
        "colab": {
          "base_uri": "https://localhost:8080/",
          "height": 54
        }
      },
      "source": [
        "# numpy to torch tensor\n",
        "import numpy as np\n",
        "a = np.ones(10)\n",
        "b = torch.from_numpy(a)\n",
        "print(a)\n",
        "print(b)"
      ],
      "execution_count": 0,
      "outputs": [
        {
          "output_type": "stream",
          "text": [
            "[1. 1. 1. 1. 1. 1. 1. 1. 1. 1.]\n",
            "tensor([1., 1., 1., 1., 1., 1., 1., 1., 1., 1.], dtype=torch.float64)\n"
          ],
          "name": "stdout"
        }
      ]
    },
    {
      "cell_type": "code",
      "metadata": {
        "id": "Gx-L16G4WhtG",
        "colab_type": "code",
        "outputId": "7aa7c814-d303-47fe-a140-8d75afd769b4",
        "colab": {
          "base_uri": "https://localhost:8080/",
          "height": 35
        }
      },
      "source": [
        "np.add(a,1, out=a)"
      ],
      "execution_count": 0,
      "outputs": [
        {
          "output_type": "execute_result",
          "data": {
            "text/plain": [
              "array([2., 2., 2., 2., 2., 2., 2., 2., 2., 2.])"
            ]
          },
          "metadata": {
            "tags": []
          },
          "execution_count": 65
        }
      ]
    },
    {
      "cell_type": "code",
      "metadata": {
        "id": "iToCtV9EWkXe",
        "colab_type": "code",
        "outputId": "af2285b8-171a-4b14-b66a-a821ecc266c1",
        "colab": {
          "base_uri": "https://localhost:8080/",
          "height": 35
        }
      },
      "source": [
        "a"
      ],
      "execution_count": 0,
      "outputs": [
        {
          "output_type": "execute_result",
          "data": {
            "text/plain": [
              "array([2., 2., 2., 2., 2., 2., 2., 2., 2., 2.])"
            ]
          },
          "metadata": {
            "tags": []
          },
          "execution_count": 66
        }
      ]
    },
    {
      "cell_type": "code",
      "metadata": {
        "id": "59Qnchg8cUif",
        "colab_type": "code",
        "colab": {}
      },
      "source": [
        ""
      ],
      "execution_count": 0,
      "outputs": []
    }
  ]
}